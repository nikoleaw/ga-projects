{
 "cells": [
  {
   "cell_type": "markdown",
   "metadata": {},
   "source": [
    "# Project 1: Graduate School Admissions Factors"
   ]
  },
  {
   "cell_type": "markdown",
   "metadata": {},
   "source": [
    "The objective of this analysis is to determine if GRE score, gpa, or school prestige influence admission into graduate school. \n",
    "\n",
    "\n",
    "    "
   ]
  },
  {
   "cell_type": "markdown",
   "metadata": {},
   "source": [
    "## Hypothesis\n",
    "    \n",
    "Students with a school prestige ranking of 3 or 4 with have a smaller range of GRE and gpa scores for admitted students. Students with a school prestige ranking of 1 and 2 will have a larger range of GRE and gpa scores for admitted students.\n",
    "\n",
    "Assumptions made about the data:\n",
    "* Admissions data is based on current admissions criteria/standards.\n",
    "* The data collected from students in their senior year of their undergraduate studies.\n",
    "* The GRE score was the final score submitted to the university."
   ]
  },
  {
   "cell_type": "markdown",
   "metadata": {},
   "source": [
    "\n",
    "### Data Definitions\n",
    "\n",
    "-------\n",
    "| Metric     | Data Type| Definition                     |\n",
    "| -----------|--------  | :------------------------------|\n",
    "| Admit      | Int      | A binary variable that indicates whether or not a candidate was admitted.(admit =1) (not admit= 0)       |\n",
    "| GRE        | Int      | Graduate Record Exam |\n",
    "| GPA        | Float    | Grade Point Average  |\n",
    "| Rank       | Int      | The rank of an applicant's undergraduate alma mater, with 1 being the highest and 4 as the lowest|\n",
    "------"
   ]
  },
  {
   "cell_type": "markdown",
   "metadata": {},
   "source": [
    "## Questions to Consider for Initial Analysis\n",
    "\n",
    "* What is the count of students admitted by school rank?\n",
    "* What is the average GPA and GRE score of students by school rank?\n",
    "* What is the overall average GPA and GRE for students admitted and not admitted?\n",
    "* What is the overall max and min scores of students admited? By school rank? "
   ]
  },
  {
   "cell_type": "code",
   "execution_count": null,
   "metadata": {},
   "outputs": [],
   "source": []
  },
  {
   "cell_type": "code",
   "execution_count": null,
   "metadata": {},
   "outputs": [],
   "source": []
  },
  {
   "cell_type": "code",
   "execution_count": null,
   "metadata": {},
   "outputs": [],
   "source": []
  }
 ],
 "metadata": {
  "kernelspec": {
   "display_name": "Python 3",
   "language": "python",
   "name": "python3"
  },
  "language_info": {
   "codemirror_mode": {
    "name": "ipython",
    "version": 3
   },
   "file_extension": ".py",
   "mimetype": "text/x-python",
   "name": "python",
   "nbconvert_exporter": "python",
   "pygments_lexer": "ipython3",
   "version": "3.6.4"
  }
 },
 "nbformat": 4,
 "nbformat_minor": 2
}
